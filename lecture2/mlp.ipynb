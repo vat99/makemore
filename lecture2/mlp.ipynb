{
 "cells": [
  {
   "cell_type": "code",
   "execution_count": 3,
   "metadata": {},
   "outputs": [
    {
     "name": "stderr",
     "output_type": "stream",
     "text": [
      "/opt/conda/lib/python3.8/site-packages/tqdm/auto.py:22: TqdmWarning: IProgress not found. Please update jupyter and ipywidgets. See https://ipywidgets.readthedocs.io/en/stable/user_install.html\n",
      "  from .autonotebook import tqdm as notebook_tqdm\n"
     ]
    }
   ],
   "source": [
    "import torch\n",
    "import torch.nn.functional as F\n",
    "import matplotlib.pyplot as plt\n",
    "%matplotlib inline"
   ]
  },
  {
   "cell_type": "code",
   "execution_count": 4,
   "metadata": {},
   "outputs": [
    {
     "name": "stdout",
     "output_type": "stream",
     "text": [
      "['emma', 'olivia', 'ava', 'isabella', 'sophia', 'charlotte', 'mia', 'amelia']\n",
      "32033\n"
     ]
    }
   ],
   "source": [
    "words = open('../names.txt', 'r').read().splitlines()\n",
    "print(words[:8])\n",
    "print(len(words))"
   ]
  },
  {
   "cell_type": "code",
   "execution_count": 5,
   "metadata": {},
   "outputs": [
    {
     "name": "stdout",
     "output_type": "stream",
     "text": [
      "{1: 'a', 2: 'b', 3: 'c', 4: 'd', 5: 'e', 6: 'f', 7: 'g', 8: 'h', 9: 'i', 10: 'j', 11: 'k', 12: 'l', 13: 'm', 14: 'n', 15: 'o', 16: 'p', 17: 'q', 18: 'r', 19: 's', 20: 't', 21: 'u', 22: 'v', 23: 'w', 24: 'x', 25: 'y', 26: 'z', 0: '.'}\n"
     ]
    }
   ],
   "source": [
    "# build the vocabulary of characters and mappings to/from integers\n",
    "chars = sorted(list(set(''.join(words))))\n",
    "stoi = {s:i+1 for i,s in enumerate(chars)}\n",
    "stoi['.'] = 0\n",
    "itos = {i:s for s,i in stoi.items()}\n",
    "print(itos)"
   ]
  },
  {
   "cell_type": "code",
   "execution_count": 6,
   "metadata": {},
   "outputs": [
    {
     "name": "stdout",
     "output_type": "stream",
     "text": [
      "torch.Size([228146, 3])\n",
      "torch.Size([228146])\n"
     ]
    }
   ],
   "source": [
    "# rebuild the dataset\n",
    "# goal\n",
    "# take sliding window of *block_size* across each name\n",
    "\n",
    "block_size = 3 # context length: how many characters do we take to predict the next one\n",
    "X, Y = [], [] # the inputs and outputs\n",
    "for w in words:\n",
    "    #print(w)\n",
    "    context = [0] * block_size\n",
    "    for ch in w + '.':\n",
    "        ix = stoi[ch]\n",
    "        X.append(context)\n",
    "        Y.append(ix)\n",
    "        #print(''.join(itos[i] for i in context), '--->', itos[ix])\n",
    "        context = context[1:] + [ix] # crop and append\n",
    "\n",
    "X = torch.tensor(X)\n",
    "Y = torch.tensor(Y)\n",
    "print(X.shape)\n",
    "print(Y.shape)"
   ]
  },
  {
   "cell_type": "code",
   "execution_count": 7,
   "metadata": {},
   "outputs": [],
   "source": [
    "# now lets build the NN\n",
    "# 1. build the embedding look up table C\n",
    "\n",
    "# start by randomly initializing C\n",
    "# shape is 27, 2 for 27 chars into 2 dim space\n",
    "C = torch.randn((27, 2))"
   ]
  },
  {
   "cell_type": "code",
   "execution_count": 8,
   "metadata": {},
   "outputs": [
    {
     "data": {
      "text/plain": [
       "tensor([ 2.1087, -0.4389])"
      ]
     },
     "execution_count": 8,
     "metadata": {},
     "output_type": "execute_result"
    }
   ],
   "source": [
    "# two equivalent ways of access\n",
    "# method 1 by direct access\n",
    "C[5]"
   ]
  },
  {
   "cell_type": "code",
   "execution_count": 9,
   "metadata": {},
   "outputs": [
    {
     "data": {
      "text/plain": [
       "tensor([ 2.1087, -0.4389])"
      ]
     },
     "execution_count": 9,
     "metadata": {},
     "output_type": "execute_result"
    }
   ],
   "source": [
    "# method 2 by one-hot vector mlutiplication\n",
    "F.one_hot(torch.tensor(5), num_classes=27).float() @ C"
   ]
  },
  {
   "cell_type": "code",
   "execution_count": 10,
   "metadata": {},
   "outputs": [
    {
     "name": "stdout",
     "output_type": "stream",
     "text": [
      "tensor([0, 0, 0]) tensor(5)\n",
      "tensor([0, 0, 5]) tensor(13)\n"
     ]
    }
   ],
   "source": [
    "# conclusion: we can actually think of the embedding lookup step as actually a MM!\n",
    "# looks something like this\n",
    "print(X[0], Y[0])\n",
    "print(X[1], Y[1])"
   ]
  },
  {
   "cell_type": "code",
   "execution_count": 11,
   "metadata": {},
   "outputs": [
    {
     "name": "stdout",
     "output_type": "stream",
     "text": [
      "tensor([[-0.1511, -0.9235],\n",
      "        [-0.1511, -0.9235],\n",
      "        [-0.1511, -0.9235]])\n",
      "torch.Size([3, 27])\n",
      "torch.Size([27, 2])\n",
      "tensor([[-0.1511, -0.9235],\n",
      "        [-0.1511, -0.9235],\n",
      "        [-0.1511, -0.9235]])\n"
     ]
    }
   ],
   "source": [
    "# for example 0:\n",
    "# output of embedding lookup step for block size 3\n",
    "# method 1\n",
    "print(C[X[0]])\n",
    "# output is shape 3,2\n",
    "\n",
    "# method 2\n",
    "# C is of shape 27,2\n",
    "# output should be 3,27 x 27,2 = 3,2\n",
    "print(F.one_hot(X[0], num_classes=27).shape)\n",
    "print(C.shape)\n",
    "print(F.one_hot(X[0], num_classes=27).float() @ C)"
   ]
  },
  {
   "cell_type": "code",
   "execution_count": 12,
   "metadata": {},
   "outputs": [
    {
     "data": {
      "text/plain": [
       "torch.Size([228146, 3, 2])"
      ]
     },
     "execution_count": 12,
     "metadata": {},
     "output_type": "execute_result"
    }
   ],
   "source": [
    "# ok now lets scale this up to dataset size\n",
    "\n",
    "# method 1\n",
    "C[X].shape\n",
    "\n",
    "# method 2\n",
    "# F.one_hot(X, num_classes=27).float() @ C"
   ]
  },
  {
   "cell_type": "code",
   "execution_count": 13,
   "metadata": {},
   "outputs": [],
   "source": [
    "emb = C[X]"
   ]
  },
  {
   "cell_type": "code",
   "execution_count": 14,
   "metadata": {},
   "outputs": [],
   "source": [
    "W1 = torch.randn((6,100))\n",
    "b1 = torch.randn(100)"
   ]
  },
  {
   "cell_type": "code",
   "execution_count": 15,
   "metadata": {},
   "outputs": [
    {
     "name": "stdout",
     "output_type": "stream",
     "text": [
      "tensor([[[-0.1511, -0.9235],\n",
      "         [-0.1511, -0.9235],\n",
      "         [-0.1511, -0.9235]],\n",
      "\n",
      "        [[-0.1511, -0.9235],\n",
      "         [-0.1511, -0.9235],\n",
      "         [ 2.1087, -0.4389]],\n",
      "\n",
      "        [[-0.1511, -0.9235],\n",
      "         [ 2.1087, -0.4389],\n",
      "         [ 0.4123,  0.0806]],\n",
      "\n",
      "        [[ 2.1087, -0.4389],\n",
      "         [ 0.4123,  0.0806],\n",
      "         [ 0.4123,  0.0806]],\n",
      "\n",
      "        [[ 0.4123,  0.0806],\n",
      "         [ 0.4123,  0.0806],\n",
      "         [ 1.6385,  0.1919]]])\n"
     ]
    },
    {
     "data": {
      "text/plain": [
       "tensor([[-0.1511, -0.9235, -0.1511, -0.9235, -0.1511, -0.9235],\n",
       "        [-0.1511, -0.9235, -0.1511, -0.9235,  2.1087, -0.4389],\n",
       "        [-0.1511, -0.9235,  2.1087, -0.4389,  0.4123,  0.0806],\n",
       "        [ 2.1087, -0.4389,  0.4123,  0.0806,  0.4123,  0.0806],\n",
       "        [ 0.4123,  0.0806,  0.4123,  0.0806,  1.6385,  0.1919]])"
      ]
     },
     "execution_count": 15,
     "metadata": {},
     "output_type": "execute_result"
    }
   ],
   "source": [
    "# concatentate and disparate emb chunks: (bs, 3, 2) -> (bs, 6)\n",
    "example = torch.clone(C[X[:5]])\n",
    "print(example)\n",
    "example.view(-1, 6)"
   ]
  },
  {
   "cell_type": "code",
   "execution_count": 16,
   "metadata": {},
   "outputs": [
    {
     "name": "stdout",
     "output_type": "stream",
     "text": [
      "torch.Size([228146, 27])\n",
      "tensor(15.6570)\n"
     ]
    }
   ],
   "source": [
    "# ok lets summarize so far and add the remaining\n",
    "# this is the simulated forward pass\n",
    "emb = C[X]\n",
    "W1 = torch.randn((6,100))\n",
    "b1 = torch.randn(100)\n",
    "h = torch.tanh(emb.view(-1, 6) @ W1 + b1) # shape is (bs, 100)\n",
    "\n",
    "# need to have this as logits (output over our characters)\n",
    "W2 = torch.randn((100, 27))\n",
    "b2 = torch.randn(27)\n",
    "\n",
    "logits = h @ W2 + b2\n",
    "print(logits.shape)\n",
    "\n",
    "loss = F.cross_entropy(logits, Y)\n",
    "print(loss)"
   ]
  },
  {
   "cell_type": "code",
   "execution_count": 45,
   "metadata": {},
   "outputs": [],
   "source": [
    "# setup\n",
    "g = torch.Generator().manual_seed(42)\n",
    "C = torch.randn((27,2), generator=g)\n",
    "W1 = torch.randn((6,100), generator=g)\n",
    "b1 = torch.randn(100, generator=g)\n",
    "W2 = torch.randn((100, 27), generator=g)\n",
    "b2 = torch.randn(27, generator=g)\n",
    "parameters = [C, W1, b1, W2, b2]"
   ]
  },
  {
   "cell_type": "code",
   "execution_count": 46,
   "metadata": {},
   "outputs": [
    {
     "name": "stdout",
     "output_type": "stream",
     "text": [
      "3481\n"
     ]
    }
   ],
   "source": [
    "print(sum(p.nelement() for p in parameters))\n",
    "for p in parameters:\n",
    "    p.requires_grad = True"
   ]
  },
  {
   "cell_type": "code",
   "execution_count": 17,
   "metadata": {},
   "outputs": [],
   "source": [
    "# lets build the dataset\n",
    "def build_dataset(words):\n",
    "    block_size = 3\n",
    "    X, Y = [], []\n",
    "    for w in words:\n",
    "        context = [0] * block_size\n",
    "        for ch in w + '.':\n",
    "            ix = stoi[ch]\n",
    "            X.append(context)\n",
    "            Y.append(ix)\n",
    "            context = context[1:] + [ix]\n",
    "    return torch.tensor(X), torch.tensor(Y)\n",
    "\n",
    "# now lets get the splits\n",
    "import random\n",
    "random.seed(42)\n",
    "random.shuffle(words)\n",
    "n1 = int(0.8*len(words))\n",
    "n2 = int(0.9*len(words))\n",
    "Xtrain, Ytrain = build_dataset(words[:n1])\n",
    "Xdev, Ydev = build_dataset(words[n1:n2])\n",
    "Xtest, Ytest = build_dataset(words[n2:])"
   ]
  },
  {
   "cell_type": "code",
   "execution_count": 50,
   "metadata": {},
   "outputs": [
    {
     "name": "stdout",
     "output_type": "stream",
     "text": [
      "epoch 0: 2.2635397911071777\n",
      "epoch 1: 2.2566728591918945\n"
     ]
    }
   ],
   "source": [
    "# ok now lets add some batching and the like\n",
    "lr = 0.1\n",
    "train_loss = []\n",
    "val_loss = []\n",
    "num_train_samples = Xtrain.shape[0]\n",
    "num_epochs = 2\n",
    "\n",
    "def forward(X_ix, Y_ix):\n",
    "    emb = C[X_ix]\n",
    "    h = torch.tanh(emb.view(-1, 6) @ W1 + b1)\n",
    "    logits = h @ W2 + b2\n",
    "    loss = F.cross_entropy(logits, Y_ix)\n",
    "    return loss\n",
    "\n",
    "for epoch in range(num_epochs):\n",
    "    for step in range(num_train_samples):\n",
    "        # construct the minibatch\n",
    "        ix = torch.randint(0, num_train_samples, (32,))\n",
    "\n",
    "        # forward\n",
    "        loss = forward(Xtrain[ix], Ytrain[ix])\n",
    "        train_loss.append(loss)\n",
    "\n",
    "        # backward\n",
    "        for p in parameters:\n",
    "            p.grad = None\n",
    "        loss.backward()\n",
    "\n",
    "        # opt\n",
    "        for p in parameters:\n",
    "            p.data += -lr * p.grad\n",
    "\n",
    "    # at the end of the epoch calculate the validation loss\n",
    "    loss = forward(Xdev, Ydev)\n",
    "    print(f\"epoch {epoch}: {loss}\")\n",
    "    val_loss.append(loss)"
   ]
  },
  {
   "cell_type": "code",
   "execution_count": 21,
   "metadata": {},
   "outputs": [],
   "source": [
    "# lets do all of that but now in torch\n",
    "class NLM(torch.nn.Module):\n",
    "    def __init__(self, vocab_size, vocab_dim, num_blocks, hidden_size):\n",
    "        super().__init__()\n",
    "        self.C = torch.nn.Parameter(torch.randn((vocab_size, vocab_dim)))\n",
    "        self.W1 = torch.nn.Parameter(torch.randn((vocab_dim*num_blocks, hidden_size)))\n",
    "        self.b1 = torch.nn.Parameter(torch.randn(hidden_size))\n",
    "        self.W2 = torch.nn.Parameter(torch.randn((hidden_size, vocab_size)))\n",
    "        self.b2 = torch.nn.Parameter(torch.randn(vocab_size))\n",
    "    def forward(self, X):\n",
    "        emb = self.C[X]\n",
    "        h = torch.tanh(emb.view(-1, 6) @ self.W1 + self.b1)\n",
    "        logits = h @ self.W2 + self.b2\n",
    "        return logits"
   ]
  },
  {
   "cell_type": "code",
   "execution_count": 46,
   "metadata": {},
   "outputs": [],
   "source": [
    "def train(model, optimizer, train_steps, xtrain, ytrain, xdev, ydev):\n",
    "    train_losses = []\n",
    "    val_losses = []\n",
    "    xtrain = xtrain.to(\"cuda\")\n",
    "    xdev = xdev.to(\"cuda\")\n",
    "    ytrain = ytrain.to(\"cuda\")\n",
    "    ydev = ydev.to(\"cuda\")\n",
    "    for i in range(train_steps):\n",
    "        # get minibatch\n",
    "        ix = torch.randint(0, xtrain.shape[0], (32,))\n",
    "\n",
    "        # forward\n",
    "        logits = model(xtrain[ix])\n",
    "\n",
    "        # compute the loss\n",
    "        loss = F.cross_entropy(logits, ytrain[ix])\n",
    "        train_losses.append(loss.item())\n",
    "        if i % 100 == 0:\n",
    "            print(f\"train: step {i}, {loss.item()}\")\n",
    "\n",
    "        # zero grad, backward, update\n",
    "        optimizer.zero_grad()\n",
    "        loss.backward()\n",
    "        optimizer.step()\n",
    "\n",
    "        if i % 100 == 0:\n",
    "            logits = model(xdev)\n",
    "            val_loss = F.cross_entropy(logits, ydev)\n",
    "            val_losses.append(val_loss.item())\n",
    "            print(f\"val: step {i}, {val_loss.item()}\")\n",
    "    return train_losses, val_losses"
   ]
  },
  {
   "cell_type": "code",
   "execution_count": 47,
   "metadata": {},
   "outputs": [
    {
     "name": "stdout",
     "output_type": "stream",
     "text": [
      "True\n",
      "1\n",
      "0\n"
     ]
    }
   ],
   "source": [
    "print(torch.cuda.is_available())\n",
    "print(torch.cuda.device_count())\n",
    "print(torch.cuda.current_device())"
   ]
  },
  {
   "cell_type": "code",
   "execution_count": 49,
   "metadata": {},
   "outputs": [
    {
     "name": "stdout",
     "output_type": "stream",
     "text": [
      "Using device: cuda\n",
      "train: step 0, 17.612552642822266\n",
      "val: step 0, 15.979884147644043\n",
      "train: step 100, 2.8838980197906494\n",
      "val: step 100, 3.341428756713867\n",
      "train: step 200, 2.937091112136841\n",
      "val: step 200, 3.0974254608154297\n",
      "train: step 300, 3.4136507511138916\n",
      "val: step 300, 2.8196544647216797\n",
      "train: step 400, 2.558624744415283\n",
      "val: step 400, 2.8060953617095947\n",
      "train: step 500, 3.0007307529449463\n",
      "val: step 500, 2.7642946243286133\n",
      "train: step 600, 2.469026565551758\n",
      "val: step 600, 2.717906951904297\n",
      "train: step 700, 2.7702956199645996\n",
      "val: step 700, 2.6866540908813477\n",
      "train: step 800, 2.3925397396087646\n",
      "val: step 800, 2.6808624267578125\n",
      "train: step 900, 3.186495304107666\n",
      "val: step 900, 2.647329807281494\n"
     ]
    }
   ],
   "source": [
    "device = torch.device('cuda' if torch.cuda.is_available() else 'cpu')\n",
    "print(f\"Using device: {device}\")\n",
    "\n",
    "# now lets get the splits\n",
    "import random\n",
    "random.seed(42)\n",
    "random.shuffle(words)\n",
    "n1 = int(0.8*len(words))\n",
    "n2 = int(0.9*len(words))\n",
    "Xtrain, Ytrain = build_dataset(words[:n1])\n",
    "Xdev, Ydev = build_dataset(words[n1:n2])\n",
    "Xtest, Ytest = build_dataset(words[n2:])\n",
    "\n",
    "model = NLM(27, 2, 3, 100)\n",
    "model.to(device)\n",
    "\n",
    "model.train()\n",
    "optimizer = torch.optim.SGD(model.parameters(), lr=1e-1)\n",
    "train_loss, val_loss = train(model, optimizer, 1000, Xtrain, Ytrain, Xdev, Ydev)"
   ]
  },
  {
   "cell_type": "code",
   "execution_count": 55,
   "metadata": {},
   "outputs": [
    {
     "name": "stdout",
     "output_type": "stream",
     "text": [
      "10\n",
      "1000\n",
      "10\n",
      "10\n"
     ]
    }
   ],
   "source": [
    "print(len(val_loss))\n",
    "print(len(train_loss))\n",
    "train_steps = list(range(len(train_loss)))\n",
    "val_steps = list(range(0, 1000, 100))\n",
    "print(len(val_steps))\n",
    "print(len(val_loss))"
   ]
  },
  {
   "cell_type": "code",
   "execution_count": 56,
   "metadata": {},
   "outputs": [
    {
     "data": {
      "image/png": "[encoded data removed]",
      "text/plain": [
       "<Figure size 432x288 with 1 Axes>"
      ]
     },
     "metadata": {
      "needs_background": "light"
     },
     "output_type": "display_data"
    },
    {
     "ename": "",
     "evalue": "",
     "output_type": "error",
     "traceback": [
      "\u001b[1;31mThe Kernel crashed while executing code in the the current cell or a previous cell. Please review the code in the cell(s) to identify a possible cause of the failure. Click <a href='https://aka.ms/vscodeJupyterKernelCrash'>here</a> for more info. View Jupyter <a href='command:jupyter.viewOutput'>log</a> for further details."
     ]
    }
   ],
   "source": [
    "plt.plot(train_steps, train_loss, 'g', label=\"train\")\n",
    "plt.plot(val_steps, val_loss, 'b', label=\"validation\")\n",
    "plt.title(\"train and validation loss curves\")\n",
    "plt.xlabel(\"steps\")\n",
    "plt.ylabel(\"loss\")\n",
    "plt.legend()\n",
    "plt.show()"
   ]
  },
  {
   "cell_type": "code",
   "execution_count": null,
   "metadata": {},
   "outputs": [],
   "source": []
  }
 ],
 "metadata": {
  "kernelspec": {
   "display_name": "Python 3.8.12 ('base')",
   "language": "python",
   "name": "python3"
  },
  "language_info": {
   "codemirror_mode": {
    "name": "ipython",
    "version": 3
   },
   "file_extension": ".py",
   "mimetype": "text/x-python",
   "name": "python",
   "nbconvert_exporter": "python",
   "pygments_lexer": "ipython3",
   "version": "3.8.12"
  },
  "orig_nbformat": 4,
  "vscode": {
   "interpreter": {
    "hash": "d4d1e4263499bec80672ea0156c357c1ee493ec2b1c70f0acce89fc37c4a6abe"
   }
  }
 },
 "nbformat": 4,
 "nbformat_minor": 2
}
